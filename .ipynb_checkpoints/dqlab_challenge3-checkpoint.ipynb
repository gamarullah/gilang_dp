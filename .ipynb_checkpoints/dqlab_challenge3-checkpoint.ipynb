{
 "cells": [
  {
   "cell_type": "markdown",
   "metadata": {},
   "source": [
    "# DQLAB Data Challenge #3"
   ]
  },
  {
   "cell_type": "code",
   "execution_count": 1,
   "metadata": {},
   "outputs": [],
   "source": [
    "import MySQLdb\n",
    "import pandas as pd"
   ]
  },
  {
   "cell_type": "raw",
   "metadata": {},
   "source": [
    "hostname: relational.fit.cvut.cz\n",
    "port: 3306\n",
    "username: guest\n",
    "password: relational"
   ]
  },
  {
   "cell_type": "code",
   "execution_count": 2,
   "metadata": {},
   "outputs": [],
   "source": [
    "dsn_database = \"UW_std\"\n",
    "dsn_hostname = \"relational.fit.cvut.cz\"\n",
    "dsn_port = 3306\n",
    "dsn_uid = \"guest\"\n",
    "dsn_pwd = \"relational\""
   ]
  },
  {
   "cell_type": "code",
   "execution_count": 3,
   "metadata": {},
   "outputs": [],
   "source": [
    "conn = MySQLdb.connect(host=dsn_hostname, port=dsn_port, user=dsn_uid, passwd=dsn_pwd, db=dsn_database)"
   ]
  },
  {
   "cell_type": "code",
   "execution_count": 4,
   "metadata": {},
   "outputs": [],
   "source": [
    "person = pd.read_sql('SELECT * FROM person;', conn)\n",
    "person['p_id'] = person['p_id'].astype(str)\n",
    "\n",
    "advise = pd.read_sql('SELECT * FROM advisedBy;', conn)\n",
    "advise['p_id'] = advise['p_id'].astype(str)\n",
    "advise['p_id_dummy'] = advise['p_id_dummy'].astype(str)\n",
    "\n",
    "taught = pd.read_sql('SELECT * FROM taughtBy;', conn)\n",
    "taught['p_id'] = taught['p_id'].astype(str)\n",
    "taught['course_id'] = taught['course_id'].astype(str)\n",
    "\n",
    "course = pd.read_sql('SELECT * FROM course;', conn)\n",
    "course['course_id'] = course['course_id'].astype(str)"
   ]
  },
  {
   "cell_type": "code",
   "execution_count": 5,
   "metadata": {},
   "outputs": [
    {
     "data": {
      "text/html": [
       "<div>\n",
       "<style scoped>\n",
       "    .dataframe tbody tr th:only-of-type {\n",
       "        vertical-align: middle;\n",
       "    }\n",
       "\n",
       "    .dataframe tbody tr th {\n",
       "        vertical-align: top;\n",
       "    }\n",
       "\n",
       "    .dataframe thead th {\n",
       "        text-align: right;\n",
       "    }\n",
       "</style>\n",
       "<table border=\"1\" class=\"dataframe\">\n",
       "  <thead>\n",
       "    <tr style=\"text-align: right;\">\n",
       "      <th></th>\n",
       "      <th>p_id</th>\n",
       "      <th>professor</th>\n",
       "      <th>student</th>\n",
       "      <th>hasPosition</th>\n",
       "      <th>inPhase</th>\n",
       "      <th>yearsInProgram</th>\n",
       "      <th>p_id_dummy</th>\n",
       "      <th>course_id</th>\n",
       "      <th>courseLevel</th>\n",
       "    </tr>\n",
       "  </thead>\n",
       "  <tbody>\n",
       "    <tr>\n",
       "      <th>0</th>\n",
       "      <td>3</td>\n",
       "      <td>0</td>\n",
       "      <td>1</td>\n",
       "      <td>0</td>\n",
       "      <td>0</td>\n",
       "      <td>0</td>\n",
       "      <td>NaN</td>\n",
       "      <td>NaN</td>\n",
       "      <td>NaN</td>\n",
       "    </tr>\n",
       "    <tr>\n",
       "      <th>1</th>\n",
       "      <td>4</td>\n",
       "      <td>0</td>\n",
       "      <td>1</td>\n",
       "      <td>0</td>\n",
       "      <td>0</td>\n",
       "      <td>0</td>\n",
       "      <td>NaN</td>\n",
       "      <td>NaN</td>\n",
       "      <td>NaN</td>\n",
       "    </tr>\n",
       "    <tr>\n",
       "      <th>2</th>\n",
       "      <td>5</td>\n",
       "      <td>1</td>\n",
       "      <td>0</td>\n",
       "      <td>Faculty</td>\n",
       "      <td>0</td>\n",
       "      <td>0</td>\n",
       "      <td>NaN</td>\n",
       "      <td>19</td>\n",
       "      <td>Level_500</td>\n",
       "    </tr>\n",
       "    <tr>\n",
       "      <th>3</th>\n",
       "      <td>5</td>\n",
       "      <td>1</td>\n",
       "      <td>0</td>\n",
       "      <td>Faculty</td>\n",
       "      <td>0</td>\n",
       "      <td>0</td>\n",
       "      <td>NaN</td>\n",
       "      <td>51</td>\n",
       "      <td>Level_400</td>\n",
       "    </tr>\n",
       "    <tr>\n",
       "      <th>4</th>\n",
       "      <td>5</td>\n",
       "      <td>1</td>\n",
       "      <td>0</td>\n",
       "      <td>Faculty</td>\n",
       "      <td>0</td>\n",
       "      <td>0</td>\n",
       "      <td>NaN</td>\n",
       "      <td>71</td>\n",
       "      <td>Level_500</td>\n",
       "    </tr>\n",
       "  </tbody>\n",
       "</table>\n",
       "</div>"
      ],
      "text/plain": [
       "  p_id professor student hasPosition inPhase yearsInProgram p_id_dummy  \\\n",
       "0    3         0       1           0       0              0        NaN   \n",
       "1    4         0       1           0       0              0        NaN   \n",
       "2    5         1       0     Faculty       0              0        NaN   \n",
       "3    5         1       0     Faculty       0              0        NaN   \n",
       "4    5         1       0     Faculty       0              0        NaN   \n",
       "\n",
       "  course_id courseLevel  \n",
       "0       NaN         NaN  \n",
       "1       NaN         NaN  \n",
       "2        19   Level_500  \n",
       "3        51   Level_400  \n",
       "4        71   Level_500  "
      ]
     },
     "execution_count": 5,
     "metadata": {},
     "output_type": "execute_result"
    }
   ],
   "source": [
    "df = pd.merge(person, advise, on='p_id', how='left')\n",
    "df = pd.merge(df, taught, on='p_id', how='left')\n",
    "df = pd.merge(df, course, on='course_id', how='left')\n",
    "df.head()"
   ]
  },
  {
   "cell_type": "code",
   "execution_count": 6,
   "metadata": {},
   "outputs": [],
   "source": [
    "df.to_csv('UW-CSE.csv', index='FALSE')"
   ]
  },
  {
   "cell_type": "code",
   "execution_count": 7,
   "metadata": {},
   "outputs": [],
   "source": [
    "conn.close()"
   ]
  }
 ],
 "metadata": {
  "kernelspec": {
   "display_name": "Python 3",
   "language": "python",
   "name": "python3"
  },
  "language_info": {
   "codemirror_mode": {
    "name": "ipython",
    "version": 3
   },
   "file_extension": ".py",
   "mimetype": "text/x-python",
   "name": "python",
   "nbconvert_exporter": "python",
   "pygments_lexer": "ipython3",
   "version": "3.7.3"
  }
 },
 "nbformat": 4,
 "nbformat_minor": 2
}
