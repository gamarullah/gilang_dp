{
 "cells": [
  {
   "cell_type": "markdown",
   "metadata": {},
   "source": [
    "# Analisis Data Nilai Pegawai"
   ]
  },
  {
   "cell_type": "markdown",
   "metadata": {},
   "source": [
    "##### Pemerintah Provinsi Jawa Barat ingin mengevaluasi performa kinerja Aparatur Sipil Negara dengan melakukan penilaian pada setiap pegawai. Nilai yang dihasilkan merupakan hasil kalkulasi pembobotan dari beberapa kriteria yang sudah ditentukan. Hal ini bertujuan untuk mengklasifikasikan manakah pegawai dengan performa yang sangat baik dan sebaliknya. Hasil ini dapat dijadikan pertimbangan yang adil dan menjadi dasar atau support untuk pengambilan kebijakan."
   ]
  },
  {
   "cell_type": "code",
   "execution_count": 1,
   "metadata": {},
   "outputs": [],
   "source": [
    "# LIBRARY\n",
    "import numpy as np\n",
    "import pandas as pd\n",
    "import matplotlib.pyplot as plt\n",
    "import seaborn as sns"
   ]
  },
  {
   "cell_type": "code",
   "execution_count": 2,
   "metadata": {},
   "outputs": [],
   "source": [
    "# DATA\n",
    "df = pd.read_excel('Data Nilai Pegawai.xlsx', header=0)\n",
    "df['ID PERSON'] = df['ID PERSON'].astype(str)"
   ]
  },
  {
   "cell_type": "code",
   "execution_count": 3,
   "metadata": {},
   "outputs": [
    {
     "name": "stdout",
     "output_type": "stream",
     "text": [
      "ID PERSON False\n",
      "Tingkat Pendidikan Akhir False\n",
      "Usia False\n",
      "Satuan Kerja False\n",
      "Bulan False\n",
      "Nilai False\n"
     ]
    }
   ],
   "source": [
    "# Check for any missing value from all columns\n",
    "for col in df:\n",
    "    print(col, df[col].isnull().values.any())"
   ]
  },
  {
   "cell_type": "code",
   "execution_count": 4,
   "metadata": {},
   "outputs": [
    {
     "data": {
      "text/html": [
       "<div>\n",
       "<style scoped>\n",
       "    .dataframe tbody tr th:only-of-type {\n",
       "        vertical-align: middle;\n",
       "    }\n",
       "\n",
       "    .dataframe tbody tr th {\n",
       "        vertical-align: top;\n",
       "    }\n",
       "\n",
       "    .dataframe thead th {\n",
       "        text-align: right;\n",
       "    }\n",
       "</style>\n",
       "<table border=\"1\" class=\"dataframe\">\n",
       "  <thead>\n",
       "    <tr style=\"text-align: right;\">\n",
       "      <th></th>\n",
       "      <th>ID PERSON</th>\n",
       "      <th>Tingkat Pendidikan Akhir</th>\n",
       "      <th>Usia</th>\n",
       "      <th>Satuan Kerja</th>\n",
       "      <th>Bulan</th>\n",
       "      <th>Nilai</th>\n",
       "    </tr>\n",
       "  </thead>\n",
       "  <tbody>\n",
       "    <tr>\n",
       "      <th>0</th>\n",
       "      <td>1001</td>\n",
       "      <td>S3</td>\n",
       "      <td>61</td>\n",
       "      <td>DINAS B</td>\n",
       "      <td>Juli</td>\n",
       "      <td>7.88436</td>\n",
       "    </tr>\n",
       "    <tr>\n",
       "      <th>1</th>\n",
       "      <td>1002</td>\n",
       "      <td>SLTA</td>\n",
       "      <td>59</td>\n",
       "      <td>DINAS A</td>\n",
       "      <td>Juli</td>\n",
       "      <td>6.95183</td>\n",
       "    </tr>\n",
       "    <tr>\n",
       "      <th>2</th>\n",
       "      <td>1003</td>\n",
       "      <td>S2</td>\n",
       "      <td>57</td>\n",
       "      <td>BADAN D</td>\n",
       "      <td>Juli</td>\n",
       "      <td>8.18452</td>\n",
       "    </tr>\n",
       "    <tr>\n",
       "      <th>3</th>\n",
       "      <td>1004</td>\n",
       "      <td>SD</td>\n",
       "      <td>56</td>\n",
       "      <td>DINAS B</td>\n",
       "      <td>Juli</td>\n",
       "      <td>6.55612</td>\n",
       "    </tr>\n",
       "    <tr>\n",
       "      <th>4</th>\n",
       "      <td>1005</td>\n",
       "      <td>D3</td>\n",
       "      <td>54</td>\n",
       "      <td>DINAS B</td>\n",
       "      <td>Juli</td>\n",
       "      <td>6.34694</td>\n",
       "    </tr>\n",
       "  </tbody>\n",
       "</table>\n",
       "</div>"
      ],
      "text/plain": [
       "  ID PERSON Tingkat Pendidikan Akhir  Usia Satuan Kerja Bulan    Nilai\n",
       "0      1001                       S3    61      DINAS B  Juli  7.88436\n",
       "1      1002                     SLTA    59      DINAS A  Juli  6.95183\n",
       "2      1003                       S2    57      BADAN D  Juli  8.18452\n",
       "3      1004                       SD    56      DINAS B  Juli  6.55612\n",
       "4      1005                       D3    54      DINAS B  Juli  6.34694"
      ]
     },
     "execution_count": 4,
     "metadata": {},
     "output_type": "execute_result"
    }
   ],
   "source": [
    "df.head()"
   ]
  },
  {
   "cell_type": "markdown",
   "metadata": {},
   "source": [
    "## Visualisasi"
   ]
  },
  {
   "cell_type": "markdown",
   "metadata": {},
   "source": [
    "Visualisasi data untuk mengetahui karakteristik dari variabel yang ada."
   ]
  },
  {
   "cell_type": "code",
   "execution_count": 5,
   "metadata": {},
   "outputs": [
    {
     "data": {
      "text/html": [
       "<div>\n",
       "<style scoped>\n",
       "    .dataframe tbody tr th:only-of-type {\n",
       "        vertical-align: middle;\n",
       "    }\n",
       "\n",
       "    .dataframe tbody tr th {\n",
       "        vertical-align: top;\n",
       "    }\n",
       "\n",
       "    .dataframe thead th {\n",
       "        text-align: right;\n",
       "    }\n",
       "</style>\n",
       "<table border=\"1\" class=\"dataframe\">\n",
       "  <thead>\n",
       "    <tr style=\"text-align: right;\">\n",
       "      <th></th>\n",
       "      <th>index</th>\n",
       "      <th>Nilai</th>\n",
       "    </tr>\n",
       "  </thead>\n",
       "  <tbody>\n",
       "    <tr>\n",
       "      <th>0</th>\n",
       "      <td>count</td>\n",
       "      <td>30.000000</td>\n",
       "    </tr>\n",
       "    <tr>\n",
       "      <th>1</th>\n",
       "      <td>mean</td>\n",
       "      <td>7.185791</td>\n",
       "    </tr>\n",
       "    <tr>\n",
       "      <th>2</th>\n",
       "      <td>std</td>\n",
       "      <td>0.484566</td>\n",
       "    </tr>\n",
       "    <tr>\n",
       "      <th>3</th>\n",
       "      <td>min</td>\n",
       "      <td>6.346940</td>\n",
       "    </tr>\n",
       "    <tr>\n",
       "      <th>4</th>\n",
       "      <td>25%</td>\n",
       "      <td>6.964457</td>\n",
       "    </tr>\n",
       "    <tr>\n",
       "      <th>5</th>\n",
       "      <td>50%</td>\n",
       "      <td>7.179420</td>\n",
       "    </tr>\n",
       "    <tr>\n",
       "      <th>6</th>\n",
       "      <td>75%</td>\n",
       "      <td>7.452400</td>\n",
       "    </tr>\n",
       "    <tr>\n",
       "      <th>7</th>\n",
       "      <td>max</td>\n",
       "      <td>8.403630</td>\n",
       "    </tr>\n",
       "  </tbody>\n",
       "</table>\n",
       "</div>"
      ],
      "text/plain": [
       "   index      Nilai\n",
       "0  count  30.000000\n",
       "1   mean   7.185791\n",
       "2    std   0.484566\n",
       "3    min   6.346940\n",
       "4    25%   6.964457\n",
       "5    50%   7.179420\n",
       "6    75%   7.452400\n",
       "7    max   8.403630"
      ]
     },
     "execution_count": 5,
     "metadata": {},
     "output_type": "execute_result"
    },
    {
     "data": {
      "image/png": "[encoded data removed]",
      "text/plain": [
       "<Figure size 432x288 with 1 Axes>"
      ]
     },
     "metadata": {
      "needs_background": "light"
     },
     "output_type": "display_data"
    }
   ],
   "source": [
    "# Distribusi Nilai\n",
    "plt.hist(df['Nilai'])\n",
    "plt.xlabel('Nilai')\n",
    "plt.title('Distribusi Nilai')\n",
    "\n",
    "# Deskriptif statistik Nilai\n",
    "df['Nilai'].describe().reset_index()"
   ]
  },
  {
   "cell_type": "raw",
   "metadata": {},
   "source": [
    "Grafik di atas merupakan distribusi dari kolom nilai. Dapat dilihat bahwa bentuknya cenderung normal, yang salah satu implikasinya adalah tidak adanya outlier yang berarti. Hal tersebut juga diperkuat oeh nilai mean dan median yang hampir sama berdasarkan tabel di atas."
   ]
  },
  {
   "cell_type": "code",
   "execution_count": 6,
   "metadata": {},
   "outputs": [
    {
     "data": {
      "text/plain": [
       "Text(0.5, 1.0, 'Persebaran Nilai berdsarkan Usia')"
      ]
     },
     "execution_count": 6,
     "metadata": {},
     "output_type": "execute_result"
    },
    {
     "data": {
      "image/png": "[encoded data removed]",
      "text/plain": [
       "<Figure size 432x288 with 1 Axes>"
      ]
     },
     "metadata": {
      "needs_background": "light"
     },
     "output_type": "display_data"
    }
   ],
   "source": [
    "# Scatter plot untuk nilai terhadap usia\n",
    "plt.scatter(df['Usia'], df['Nilai'])\n",
    "plt.xlabel('Usia')\n",
    "plt.ylabel('Nilai')\n",
    "plt.title('Persebaran Nilai berdsarkan Usia')"
   ]
  },
  {
   "cell_type": "raw",
   "metadata": {},
   "source": [
    "Grafik di atas menggambarkan persebaran plot berdasarkan usia dan nilai. Dapat dilihat bahwa tidak terlihat hubungan kausalitas di antara usia dengan nilai. Oleh karena itu, dugaan bahwa umur memiliki pengaruh terhadap kinerja dalam studi kasus ini dapat dikesampingkan."
   ]
  },
  {
   "cell_type": "markdown",
   "metadata": {},
   "source": [
    "Apabila kita lihat kembali tabel data, terdapat variabel yang menarik. Yaitu Tingkat pendidikan terakhir dan satuan kerja. Sekarang mari kita lihat bagaimana kinerja berdasarkan kedua pengelompokan tersebut."
   ]
  },
  {
   "cell_type": "code",
   "execution_count": 7,
   "metadata": {},
   "outputs": [],
   "source": [
    "nilai = df.groupby('Tingkat Pendidikan Akhir')['Nilai'].mean()\n",
    "satker = df.groupby('Satuan Kerja')['Nilai'].mean()"
   ]
  },
  {
   "cell_type": "code",
   "execution_count": 8,
   "metadata": {},
   "outputs": [
    {
     "data": {
      "text/plain": [
       "Text(0.5, 0.98, 'Tingkat Pendidikan dan Satuan Kerja')"
      ]
     },
     "execution_count": 8,
     "metadata": {},
     "output_type": "execute_result"
    },
    {
     "data": {
      "image/png": "[encoded data removed]",
      "text/plain": [
       "<Figure size 1080x360 with 2 Axes>"
      ]
     },
     "metadata": {
      "needs_background": "light"
     },
     "output_type": "display_data"
    }
   ],
   "source": [
    "fig, axs = plt.subplots(1, 2, figsize=(15, 5), sharey=True)\n",
    "axs[0].bar(nilai.index, nilai.values)\n",
    "axs[1].bar(satker.index, satker.values)\n",
    "fig.suptitle('Tingkat Pendidikan dan Satuan Kerja')"
   ]
  },
  {
   "cell_type": "raw",
   "metadata": {},
   "source": [
    "Baik berdasarkan tingkat pendidikan dan satuan kerja, tidak terlalu tampak perbedaan kinerja yang signifikan."
   ]
  },
  {
   "cell_type": "markdown",
   "metadata": {},
   "source": [
    "## Performa"
   ]
  },
  {
   "cell_type": "markdown",
   "metadata": {},
   "source": [
    "Salah satu cara yang dapat digunakan untuk menilai performa aparatur sipil adalah dengan memanfaatkan standar deviasi. Dengan menghitung nilai rata-rata serta nilai persebarannya, akan diketahu siap sajakah yang berkategori performa tinggi, sedang, dan rendah."
   ]
  },
  {
   "cell_type": "code",
   "execution_count": 9,
   "metadata": {},
   "outputs": [],
   "source": [
    "upper_score = df['Nilai'].mean() + df['Nilai'].std()\n",
    "lower_score = df['Nilai'].mean() - df['Nilai'].std()"
   ]
  },
  {
   "cell_type": "code",
   "execution_count": 10,
   "metadata": {},
   "outputs": [],
   "source": [
    "performance = []\n",
    "\n",
    "for row in df['Nilai']:\n",
    "    if row > upper_score:\n",
    "        performance.append('High')\n",
    "    elif row < lower_score:\n",
    "        performance.append('Low')\n",
    "    else:\n",
    "        performance.append('Average')\n",
    "    \n",
    "df['Performa'] = performance"
   ]
  },
  {
   "cell_type": "markdown",
   "metadata": {},
   "source": [
    "Pada tabel berikut ini, sudah ditambahkan kolom baru: performa. Yaitu pengkategorian tiap individu berdasarkan performanya.\n",
    "\n",
    "High = di atas rata-rata, Average = krata-rata, Low = rendah"
   ]
  },
  {
   "cell_type": "code",
   "execution_count": 11,
   "metadata": {},
   "outputs": [
    {
     "data": {
      "text/html": [
       "<div>\n",
       "<style scoped>\n",
       "    .dataframe tbody tr th:only-of-type {\n",
       "        vertical-align: middle;\n",
       "    }\n",
       "\n",
       "    .dataframe tbody tr th {\n",
       "        vertical-align: top;\n",
       "    }\n",
       "\n",
       "    .dataframe thead th {\n",
       "        text-align: right;\n",
       "    }\n",
       "</style>\n",
       "<table border=\"1\" class=\"dataframe\">\n",
       "  <thead>\n",
       "    <tr style=\"text-align: right;\">\n",
       "      <th></th>\n",
       "      <th>ID PERSON</th>\n",
       "      <th>Tingkat Pendidikan Akhir</th>\n",
       "      <th>Usia</th>\n",
       "      <th>Satuan Kerja</th>\n",
       "      <th>Bulan</th>\n",
       "      <th>Nilai</th>\n",
       "      <th>Performa</th>\n",
       "    </tr>\n",
       "  </thead>\n",
       "  <tbody>\n",
       "    <tr>\n",
       "      <th>0</th>\n",
       "      <td>1001</td>\n",
       "      <td>S3</td>\n",
       "      <td>61</td>\n",
       "      <td>DINAS B</td>\n",
       "      <td>Juli</td>\n",
       "      <td>7.88436</td>\n",
       "      <td>High</td>\n",
       "    </tr>\n",
       "    <tr>\n",
       "      <th>1</th>\n",
       "      <td>1002</td>\n",
       "      <td>SLTA</td>\n",
       "      <td>59</td>\n",
       "      <td>DINAS A</td>\n",
       "      <td>Juli</td>\n",
       "      <td>6.95183</td>\n",
       "      <td>Average</td>\n",
       "    </tr>\n",
       "    <tr>\n",
       "      <th>2</th>\n",
       "      <td>1003</td>\n",
       "      <td>S2</td>\n",
       "      <td>57</td>\n",
       "      <td>BADAN D</td>\n",
       "      <td>Juli</td>\n",
       "      <td>8.18452</td>\n",
       "      <td>High</td>\n",
       "    </tr>\n",
       "    <tr>\n",
       "      <th>3</th>\n",
       "      <td>1004</td>\n",
       "      <td>SD</td>\n",
       "      <td>56</td>\n",
       "      <td>DINAS B</td>\n",
       "      <td>Juli</td>\n",
       "      <td>6.55612</td>\n",
       "      <td>Low</td>\n",
       "    </tr>\n",
       "    <tr>\n",
       "      <th>4</th>\n",
       "      <td>1005</td>\n",
       "      <td>D3</td>\n",
       "      <td>54</td>\n",
       "      <td>DINAS B</td>\n",
       "      <td>Juli</td>\n",
       "      <td>6.34694</td>\n",
       "      <td>Low</td>\n",
       "    </tr>\n",
       "    <tr>\n",
       "      <th>5</th>\n",
       "      <td>1006</td>\n",
       "      <td>D3</td>\n",
       "      <td>48</td>\n",
       "      <td>DINAS B</td>\n",
       "      <td>Juli</td>\n",
       "      <td>6.79435</td>\n",
       "      <td>Average</td>\n",
       "    </tr>\n",
       "    <tr>\n",
       "      <th>6</th>\n",
       "      <td>1007</td>\n",
       "      <td>SLTA</td>\n",
       "      <td>47</td>\n",
       "      <td>DINAS B</td>\n",
       "      <td>Juli</td>\n",
       "      <td>6.54592</td>\n",
       "      <td>Low</td>\n",
       "    </tr>\n",
       "    <tr>\n",
       "      <th>7</th>\n",
       "      <td>1008</td>\n",
       "      <td>S1</td>\n",
       "      <td>47</td>\n",
       "      <td>BADAN B</td>\n",
       "      <td>Juli</td>\n",
       "      <td>7.17857</td>\n",
       "      <td>Average</td>\n",
       "    </tr>\n",
       "    <tr>\n",
       "      <th>8</th>\n",
       "      <td>1009</td>\n",
       "      <td>D3</td>\n",
       "      <td>47</td>\n",
       "      <td>DINAS P</td>\n",
       "      <td>Juli</td>\n",
       "      <td>7.48516</td>\n",
       "      <td>Average</td>\n",
       "    </tr>\n",
       "    <tr>\n",
       "      <th>9</th>\n",
       "      <td>1010</td>\n",
       "      <td>D3</td>\n",
       "      <td>43</td>\n",
       "      <td>DINAS A</td>\n",
       "      <td>Juli</td>\n",
       "      <td>7.19048</td>\n",
       "      <td>Average</td>\n",
       "    </tr>\n",
       "    <tr>\n",
       "      <th>10</th>\n",
       "      <td>1011</td>\n",
       "      <td>SLTP</td>\n",
       "      <td>43</td>\n",
       "      <td>DINAS F</td>\n",
       "      <td>Juli</td>\n",
       "      <td>7.15193</td>\n",
       "      <td>Average</td>\n",
       "    </tr>\n",
       "    <tr>\n",
       "      <th>11</th>\n",
       "      <td>1012</td>\n",
       "      <td>D4</td>\n",
       "      <td>42</td>\n",
       "      <td>DINAS F</td>\n",
       "      <td>Juli</td>\n",
       "      <td>6.37670</td>\n",
       "      <td>Low</td>\n",
       "    </tr>\n",
       "    <tr>\n",
       "      <th>12</th>\n",
       "      <td>1013</td>\n",
       "      <td>S1</td>\n",
       "      <td>42</td>\n",
       "      <td>BADAN B</td>\n",
       "      <td>Juli</td>\n",
       "      <td>7.54592</td>\n",
       "      <td>Average</td>\n",
       "    </tr>\n",
       "    <tr>\n",
       "      <th>13</th>\n",
       "      <td>1014</td>\n",
       "      <td>SLTA</td>\n",
       "      <td>42</td>\n",
       "      <td>BADAN B</td>\n",
       "      <td>Juli</td>\n",
       "      <td>7.37848</td>\n",
       "      <td>Average</td>\n",
       "    </tr>\n",
       "    <tr>\n",
       "      <th>14</th>\n",
       "      <td>1015</td>\n",
       "      <td>S1</td>\n",
       "      <td>41</td>\n",
       "      <td>BADAN D</td>\n",
       "      <td>Juli</td>\n",
       "      <td>7.60423</td>\n",
       "      <td>Average</td>\n",
       "    </tr>\n",
       "    <tr>\n",
       "      <th>15</th>\n",
       "      <td>1016</td>\n",
       "      <td>S1</td>\n",
       "      <td>41</td>\n",
       "      <td>DINAS F</td>\n",
       "      <td>Juli</td>\n",
       "      <td>7.00234</td>\n",
       "      <td>Average</td>\n",
       "    </tr>\n",
       "    <tr>\n",
       "      <th>16</th>\n",
       "      <td>1017</td>\n",
       "      <td>D3</td>\n",
       "      <td>40</td>\n",
       "      <td>DINAS P</td>\n",
       "      <td>Juli</td>\n",
       "      <td>7.18027</td>\n",
       "      <td>Average</td>\n",
       "    </tr>\n",
       "    <tr>\n",
       "      <th>17</th>\n",
       "      <td>1018</td>\n",
       "      <td>S1</td>\n",
       "      <td>39</td>\n",
       "      <td>DINAS F</td>\n",
       "      <td>Juli</td>\n",
       "      <td>7.47704</td>\n",
       "      <td>Average</td>\n",
       "    </tr>\n",
       "    <tr>\n",
       "      <th>18</th>\n",
       "      <td>1019</td>\n",
       "      <td>D4</td>\n",
       "      <td>39</td>\n",
       "      <td>BADAN B</td>\n",
       "      <td>Juli</td>\n",
       "      <td>6.47174</td>\n",
       "      <td>Low</td>\n",
       "    </tr>\n",
       "    <tr>\n",
       "      <th>19</th>\n",
       "      <td>1020</td>\n",
       "      <td>S1</td>\n",
       "      <td>38</td>\n",
       "      <td>DINAS A</td>\n",
       "      <td>Juli</td>\n",
       "      <td>7.13010</td>\n",
       "      <td>Average</td>\n",
       "    </tr>\n",
       "    <tr>\n",
       "      <th>20</th>\n",
       "      <td>1021</td>\n",
       "      <td>S1</td>\n",
       "      <td>35</td>\n",
       "      <td>DINAS P</td>\n",
       "      <td>Juli</td>\n",
       "      <td>7.32173</td>\n",
       "      <td>Average</td>\n",
       "    </tr>\n",
       "    <tr>\n",
       "      <th>21</th>\n",
       "      <td>1022</td>\n",
       "      <td>SLTA</td>\n",
       "      <td>34</td>\n",
       "      <td>DINAS P</td>\n",
       "      <td>Juli</td>\n",
       "      <td>6.90179</td>\n",
       "      <td>Average</td>\n",
       "    </tr>\n",
       "    <tr>\n",
       "      <th>22</th>\n",
       "      <td>1023</td>\n",
       "      <td>S1</td>\n",
       "      <td>32</td>\n",
       "      <td>DINAS F</td>\n",
       "      <td>Juli</td>\n",
       "      <td>7.19260</td>\n",
       "      <td>Average</td>\n",
       "    </tr>\n",
       "    <tr>\n",
       "      <th>23</th>\n",
       "      <td>1024</td>\n",
       "      <td>S1</td>\n",
       "      <td>28</td>\n",
       "      <td>DINAS P</td>\n",
       "      <td>Juli</td>\n",
       "      <td>7.19048</td>\n",
       "      <td>Average</td>\n",
       "    </tr>\n",
       "    <tr>\n",
       "      <th>24</th>\n",
       "      <td>1025</td>\n",
       "      <td>D4</td>\n",
       "      <td>27</td>\n",
       "      <td>BADAN D</td>\n",
       "      <td>Juli</td>\n",
       "      <td>7.68367</td>\n",
       "      <td>High</td>\n",
       "    </tr>\n",
       "    <tr>\n",
       "      <th>25</th>\n",
       "      <td>1026</td>\n",
       "      <td>S1</td>\n",
       "      <td>25</td>\n",
       "      <td>BADAN D</td>\n",
       "      <td>Juli</td>\n",
       "      <td>7.10204</td>\n",
       "      <td>Average</td>\n",
       "    </tr>\n",
       "    <tr>\n",
       "      <th>26</th>\n",
       "      <td>1027</td>\n",
       "      <td>S1</td>\n",
       "      <td>25</td>\n",
       "      <td>DINAS A</td>\n",
       "      <td>Juli</td>\n",
       "      <td>7.26531</td>\n",
       "      <td>Average</td>\n",
       "    </tr>\n",
       "    <tr>\n",
       "      <th>27</th>\n",
       "      <td>1028</td>\n",
       "      <td>S1</td>\n",
       "      <td>25</td>\n",
       "      <td>DINAS A</td>\n",
       "      <td>Juli</td>\n",
       "      <td>8.40363</td>\n",
       "      <td>High</td>\n",
       "    </tr>\n",
       "    <tr>\n",
       "      <th>28</th>\n",
       "      <td>1029</td>\n",
       "      <td>S1</td>\n",
       "      <td>25</td>\n",
       "      <td>BADAN B</td>\n",
       "      <td>Juli</td>\n",
       "      <td>7.04317</td>\n",
       "      <td>Average</td>\n",
       "    </tr>\n",
       "    <tr>\n",
       "      <th>29</th>\n",
       "      <td>1030</td>\n",
       "      <td>S1</td>\n",
       "      <td>25</td>\n",
       "      <td>BADAN D</td>\n",
       "      <td>Juli</td>\n",
       "      <td>7.03231</td>\n",
       "      <td>Average</td>\n",
       "    </tr>\n",
       "  </tbody>\n",
       "</table>\n",
       "</div>"
      ],
      "text/plain": [
       "   ID PERSON Tingkat Pendidikan Akhir  Usia Satuan Kerja Bulan    Nilai  \\\n",
       "0       1001                       S3    61      DINAS B  Juli  7.88436   \n",
       "1       1002                     SLTA    59      DINAS A  Juli  6.95183   \n",
       "2       1003                       S2    57      BADAN D  Juli  8.18452   \n",
       "3       1004                       SD    56      DINAS B  Juli  6.55612   \n",
       "4       1005                       D3    54      DINAS B  Juli  6.34694   \n",
       "5       1006                       D3    48      DINAS B  Juli  6.79435   \n",
       "6       1007                     SLTA    47      DINAS B  Juli  6.54592   \n",
       "7       1008                       S1    47      BADAN B  Juli  7.17857   \n",
       "8       1009                       D3    47      DINAS P  Juli  7.48516   \n",
       "9       1010                       D3    43      DINAS A  Juli  7.19048   \n",
       "10      1011                     SLTP    43      DINAS F  Juli  7.15193   \n",
       "11      1012                       D4    42      DINAS F  Juli  6.37670   \n",
       "12      1013                       S1    42      BADAN B  Juli  7.54592   \n",
       "13      1014                     SLTA    42      BADAN B  Juli  7.37848   \n",
       "14      1015                       S1    41      BADAN D  Juli  7.60423   \n",
       "15      1016                       S1    41      DINAS F  Juli  7.00234   \n",
       "16      1017                       D3    40      DINAS P  Juli  7.18027   \n",
       "17      1018                       S1    39      DINAS F  Juli  7.47704   \n",
       "18      1019                       D4    39      BADAN B  Juli  6.47174   \n",
       "19      1020                       S1    38      DINAS A  Juli  7.13010   \n",
       "20      1021                       S1    35      DINAS P  Juli  7.32173   \n",
       "21      1022                     SLTA    34      DINAS P  Juli  6.90179   \n",
       "22      1023                       S1    32      DINAS F  Juli  7.19260   \n",
       "23      1024                       S1    28      DINAS P  Juli  7.19048   \n",
       "24      1025                       D4    27      BADAN D  Juli  7.68367   \n",
       "25      1026                       S1    25      BADAN D  Juli  7.10204   \n",
       "26      1027                       S1    25      DINAS A  Juli  7.26531   \n",
       "27      1028                       S1    25      DINAS A  Juli  8.40363   \n",
       "28      1029                       S1    25      BADAN B  Juli  7.04317   \n",
       "29      1030                       S1    25      BADAN D  Juli  7.03231   \n",
       "\n",
       "   Performa  \n",
       "0      High  \n",
       "1   Average  \n",
       "2      High  \n",
       "3       Low  \n",
       "4       Low  \n",
       "5   Average  \n",
       "6       Low  \n",
       "7   Average  \n",
       "8   Average  \n",
       "9   Average  \n",
       "10  Average  \n",
       "11      Low  \n",
       "12  Average  \n",
       "13  Average  \n",
       "14  Average  \n",
       "15  Average  \n",
       "16  Average  \n",
       "17  Average  \n",
       "18      Low  \n",
       "19  Average  \n",
       "20  Average  \n",
       "21  Average  \n",
       "22  Average  \n",
       "23  Average  \n",
       "24     High  \n",
       "25  Average  \n",
       "26  Average  \n",
       "27     High  \n",
       "28  Average  \n",
       "29  Average  "
      ]
     },
     "execution_count": 11,
     "metadata": {},
     "output_type": "execute_result"
    }
   ],
   "source": [
    "df"
   ]
  },
  {
   "cell_type": "markdown",
   "metadata": {},
   "source": [
    "## Kesimpulan"
   ]
  },
  {
   "cell_type": "markdown",
   "metadata": {},
   "source": [
    "Asumsikan distribusi data adalah normal, dengan memanfaatkan standar deviasi kita dapat memilah manakah pekerja dari mereka yang berkinerja tinggi hingga ke yang rendah."
   ]
  }
 ],
 "metadata": {
  "kernelspec": {
   "display_name": "Python 3",
   "language": "python",
   "name": "python3"
  },
  "language_info": {
   "codemirror_mode": {
    "name": "ipython",
    "version": 3
   },
   "file_extension": ".py",
   "mimetype": "text/x-python",
   "name": "python",
   "nbconvert_exporter": "python",
   "pygments_lexer": "ipython3",
   "version": "3.7.3"
  }
 },
 "nbformat": 4,
 "nbformat_minor": 2
}
